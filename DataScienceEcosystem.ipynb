{
 "cells": [
  {
   "cell_type": "markdown",
   "id": "d8db04de",
   "metadata": {},
   "source": [
    "Data Science Tools and Ecosystem"
   ]
  },
  {
   "cell_type": "markdown",
   "id": "723368d0",
   "metadata": {},
   "source": [
    "In this notebook, Data Scinece Ecosystem are summarized."
   ]
  },
  {
   "cell_type": "markdown",
   "id": "a41843f2",
   "metadata": {},
   "source": [
    "Some of the popular language that Data Scientist use are:\n",
    "    \n",
    "    -> Java\n",
    "    \n",
    "    -> Python\n",
    "\n",
    "    -> SQL\n",
    "\n",
    "    -> R"
   ]
  },
  {
   "cell_type": "markdown",
   "id": "2425b463",
   "metadata": {},
   "source": [
    "Some of the commonly used libraries used by Data Scientists include:\n",
    "\n",
    "    ->Scikit-learn\n",
    "    \n",
    "    ->numpy\n",
    "    \n",
    "    ->pandas\n",
    "    \n",
    "    ->matplotlib"
   ]
  },
  {
   "cell_type": "markdown",
   "id": "9d6892dd",
   "metadata": {},
   "source": [
    "| Data Science Tools       |\n",
    "|--------------------------|\n",
    "| Jupyter Notebooks        |\n",
    "| RStudio                  |\n",
    "| VS Code with Python      |"
   ]
  },
  {
   "cell_type": "markdown",
   "id": "389da392",
   "metadata": {},
   "source": [
    "### Examples of Evaluating Arithmetic Expressions in Python\n",
    "\n",
    "Below are a few examples of evaluating arithmetic expressions in Python."
   ]
  },
  {
   "cell_type": "code",
   "execution_count": 1,
   "id": "68e59314",
   "metadata": {},
   "outputs": [
    {
     "data": {
      "text/plain": [
       "17"
      ]
     },
     "execution_count": 1,
     "metadata": {},
     "output_type": "execute_result"
    }
   ],
   "source": [
    "# This is a simple arithmetic expression to multiply then add integers.\n",
    "result = (3 * 4) + 5\n",
    "result\n"
   ]
  },
  {
   "cell_type": "code",
   "execution_count": 2,
   "id": "225a219c",
   "metadata": {},
   "outputs": [
    {
     "data": {
      "text/plain": [
       "3.3333333333333335"
      ]
     },
     "execution_count": 2,
     "metadata": {},
     "output_type": "execute_result"
    }
   ],
   "source": [
    "# This will convert 200 minutes to hours by dividing by 60.\n",
    "minutes = 200\n",
    "hours = minutes / 60\n",
    "hours"
   ]
  },
  {
   "cell_type": "markdown",
   "id": "1606bfd9",
   "metadata": {},
   "source": [
    "**Objectives:**\n",
    "\n",
    "- List popular languages for Data Science.\n",
    "- Introduce arithmetic expressions in Python.\n",
    "- Demonstrate multiplication and addition of integers.\n",
    "- Convert minutes to hours using Python.\n",
    "- Provide examples of Data Science tools.\n",
    "\n"
   ]
  },
  {
   "cell_type": "markdown",
   "id": "035a9cb9",
   "metadata": {},
   "source": [
    "## Author\n",
    "Harsh Dadiya"
   ]
  },
  {
   "cell_type": "code",
   "execution_count": null,
   "id": "78d9a81e",
   "metadata": {},
   "outputs": [],
   "source": [
    "*"
   ]
  }
 ],
 "metadata": {
  "kernelspec": {
   "display_name": "Python 3 (ipykernel)",
   "language": "python",
   "name": "python3"
  },
  "language_info": {
   "codemirror_mode": {
    "name": "ipython",
    "version": 3
   },
   "file_extension": ".py",
   "mimetype": "text/x-python",
   "name": "python",
   "nbconvert_exporter": "python",
   "pygments_lexer": "ipython3",
   "version": "3.10.9"
  }
 },
 "nbformat": 4,
 "nbformat_minor": 5
}
